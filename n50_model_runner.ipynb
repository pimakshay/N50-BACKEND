{
 "cells": [
  {
   "cell_type": "markdown",
   "metadata": {},
   "source": [
    "#### 1. Import Libraries"
   ]
  },
  {
   "cell_type": "code",
   "execution_count": 1,
   "metadata": {},
   "outputs": [
    {
     "name": "stderr",
     "output_type": "stream",
     "text": [
      "2022-09-06 18:43:17.619434: W tensorflow/stream_executor/platform/default/dso_loader.cc:64] Could not load dynamic library 'libcudart.so.11.0'; dlerror: libcudart.so.11.0: cannot open shared object file: No such file or directory\n",
      "2022-09-06 18:43:17.619458: I tensorflow/stream_executor/cuda/cudart_stub.cc:29] Ignore above cudart dlerror if you do not have a GPU set up on your machine.\n"
     ]
    }
   ],
   "source": [
    "import numpy as np\n",
    "import pandas as pd\n",
    "import glob #\n",
    "import os \n",
    "import matplotlib.pyplot as plt\n",
    "from sklearn.preprocessing import MinMaxScaler\n",
    "import keras\n",
    "from keras.models import Sequential\n",
    "from keras.layers import Dense, LSTM, Dropout\n",
    "\n",
    "# local imports\n",
    "from src.controller import *"
   ]
  },
  {
   "cell_type": "markdown",
   "metadata": {},
   "source": [
    "#### 2. Data processing"
   ]
  },
  {
   "cell_type": "code",
   "execution_count": 2,
   "metadata": {},
   "outputs": [],
   "source": [
    "'''\n",
    "    Read text files and store the data in dataframes\n",
    "    :note: datafiles ending with '_F1.txt' are ignored. Check the difference btw two data files!\n",
    "'''\n",
    "col_names=[\"name\",\"date\",\"time\",\"low\",\"high\",\"open\",\"close\",\"volume\",\"volume2\"]\n",
    "filenames = [filename for filename in glob.glob(\"data/nifty50/05SEP/*.txt\")\n",
    "            if os.path.isfile(filename) and filename[-7]!='_']\n",
    "\n",
    "main_df = DataHandler.read_csv(col_names, filenames)"
   ]
  },
  {
   "cell_type": "markdown",
   "metadata": {},
   "source": [
    "#### 3. Prediction Model"
   ]
  },
  {
   "cell_type": "code",
   "execution_count": 3,
   "metadata": {},
   "outputs": [
    {
     "name": "stdout",
     "output_type": "stream",
     "text": [
      "       HDFC_close   future\n",
      "time                      \n",
      "09:08     2454.90  2458.45\n",
      "09:16     2456.65  2459.00\n",
      "09:17     2456.30  2460.40\n",
      "09:18     2458.45  2454.90\n",
      "09:19     2459.00  2451.20\n",
      "09:20     2460.40  2456.65\n",
      "09:21     2454.90  2455.05\n",
      "09:22     2451.20  2451.60\n",
      "09:23     2456.65  2449.05\n",
      "09:24     2455.05  2444.35\n"
     ]
    },
    {
     "name": "stderr",
     "output_type": "stream",
     "text": [
      "/home/akshay/miniconda3/envs/fleetsim/lib/python3.7/site-packages/ipykernel_launcher.py:12: PerformanceWarning: DataFrame is highly fragmented.  This is usually the result of calling `frame.insert` many times, which has poor performance.  Consider joining all columns at once using pd.concat(axis=1) instead.  To get a de-fragmented frame, use `newframe = frame.copy()`\n",
      "  if sys.path[0] == \"\":\n"
     ]
    }
   ],
   "source": [
    "SEQ_LEN = 60 #considering last 60 minutes of data\n",
    "FUTURE_PERIOD_PREDICT = 3 #predicting for next 3 minutes\n",
    "'''\n",
    "    :Strategy: consider the most stable stock in N50 and compare the behaviour of \n",
    "               other stocks w.r.t to it.\n",
    "    :Assumption: HDFC is the most stable stock in N50\n",
    "    :TODO: Improvise the strategy to include precise reference for the predictions. One can take running average of\n",
    "           the top 10 companies and make it the reference for comparison.\n",
    "'''\n",
    "RATIO_TO_PREDICT = \"HDFC\"\n",
    "\n",
    "main_df['future'] = main_df[f\"{RATIO_TO_PREDICT}_close\"].shift(-FUTURE_PERIOD_PREDICT) #adding future column which is a copy of close column just shifted in time by \"FUTURE_PERIOD_PREDICT\" timesteps\n",
    "print(main_df[[f\"{RATIO_TO_PREDICT}_close\",'future']][:10]) #check the shift of rows in future column by \"FUTURE_PERIOD_PREDICT\" units  "
   ]
  },
  {
   "cell_type": "code",
   "execution_count": 4,
   "metadata": {},
   "outputs": [
    {
     "name": "stdout",
     "output_type": "stream",
     "text": [
      "       HDFC_close   future  target\n",
      "time                              \n",
      "09:08     2454.90  2458.45       1\n",
      "09:16     2456.65  2459.00       1\n",
      "09:17     2456.30  2460.40       1\n",
      "09:18     2458.45  2454.90       0\n",
      "09:19     2459.00  2451.20       0\n",
      "09:20     2460.40  2456.65       0\n",
      "09:21     2454.90  2455.05       1\n",
      "09:22     2451.20  2451.60       1\n",
      "09:23     2456.65  2449.05       0\n",
      "09:24     2455.05  2444.35       0\n"
     ]
    }
   ],
   "source": [
    "'''\n",
    "    Add target columns which stores the calls for buying or selling of stocks\n",
    "'''\n",
    "main_df['target'] = list(map(Model.classify, main_df[f\"{RATIO_TO_PREDICT}_close\"], main_df[\"future\"]))\n",
    "\n",
    "print(main_df[[f\"{RATIO_TO_PREDICT}_close\",\"future\",\"target\"]][:10])"
   ]
  },
  {
   "cell_type": "code",
   "execution_count": 14,
   "metadata": {},
   "outputs": [
    {
     "name": "stdout",
     "output_type": "stream",
     "text": [
      "time\n",
      "09:08    1\n",
      "09:16    1\n",
      "09:17    1\n",
      "09:18    0\n",
      "09:19    0\n",
      "        ..\n",
      "15:30    0\n",
      "15:31    0\n",
      "15:33    0\n",
      "15:42    0\n",
      "16:56    0\n",
      "Name: target, Length: 380, dtype: int64\n"
     ]
    }
   ],
   "source": [
    "print(main_df[\"target\"])"
   ]
  },
  {
   "cell_type": "code",
   "execution_count": 4,
   "metadata": {},
   "outputs": [],
   "source": [
    "# data preprocessing -> 'close' cloumn already in float datatype.\n",
    "# taking 'close' column values to predict the trend of nifty index\n",
    "\n",
    "train_data = data.iloc[:, 4:5].values  "
   ]
  },
  {
   "cell_type": "code",
   "execution_count": 5,
   "metadata": {},
   "outputs": [
    {
     "data": {
      "text/plain": [
       "(248, 1)"
      ]
     },
     "execution_count": 5,
     "metadata": {},
     "output_type": "execute_result"
    }
   ],
   "source": [
    "# reslacing the values\n",
    "# comment: zero mean and unit variance scaling can also be used.\n",
    "sc = MinMaxScaler(feature_range=(0,1))\n",
    "train_data = sc.fit_transform(train_data)\n",
    "train_data.shape"
   ]
  },
  {
   "cell_type": "code",
   "execution_count": 6,
   "metadata": {},
   "outputs": [],
   "source": [
    "X_train = []\n",
    "y_train = []\n",
    "\n",
    "dataset_size = train_data.shape[0]\n",
    "cross_val_size = 10\n",
    "\n",
    "for i in range(cross_val_size, dataset_size): #similar to cross validation technique\n",
    "    X_train.append(train_data[i-cross_val_size : i, 0])\n",
    "    y_train.append(train_data[i, 0])\n",
    "\n",
    "X_train, y_train = np.array(X_train), np.array(y_train)\n"
   ]
  },
  {
   "cell_type": "code",
   "execution_count": 7,
   "metadata": {},
   "outputs": [
    {
     "data": {
      "text/plain": [
       "(238, 10, 1)"
      ]
     },
     "execution_count": 7,
     "metadata": {},
     "output_type": "execute_result"
    }
   ],
   "source": [
    "X_train = np.reshape(X_train, (X_train.shape[0], X_train.shape[1], 1)) #adding the batch_size axis\n",
    "X_train.shape"
   ]
  },
  {
   "cell_type": "markdown",
   "metadata": {},
   "source": [
    "### Model building"
   ]
  },
  {
   "cell_type": "code",
   "execution_count": 26,
   "metadata": {},
   "outputs": [],
   "source": [
    "# TODO: analyse the model on paper first!\n",
    "model = Sequential()\n",
    "\n",
    "model.add(LSTM(units=100, return_sequences= True, input_shape = (X_train.shape[1], 1)))\n",
    "model.add(Dropout(0.2))\n",
    "\n",
    "model.add(LSTM(units=100, return_sequences= True))\n",
    "model.add(Dropout(0.2))\n",
    "\n",
    "model.add(LSTM(units=100, return_sequences= False))\n",
    "model.add(Dropout(0.2))\n",
    "\n",
    "model.add(Dense(units=32, activation = 'tanh'))\n",
    "model.add(Dropout(0.2))\n",
    "\n",
    "model.add(Dense(units=1))\n",
    "\n",
    "# opt = keras.optimizers.Adam(lr=0.0001, decay=1e-6)\n",
    "model.compile(optimizer='adam', loss='mean_squared_error')"
   ]
  },
  {
   "cell_type": "code",
   "execution_count": 17,
   "metadata": {},
   "outputs": [
    {
     "data": {
      "text/plain": [
       "(238, 10, 1)"
      ]
     },
     "execution_count": 17,
     "metadata": {},
     "output_type": "execute_result"
    }
   ],
   "source": [
    "X_train.shape"
   ]
  },
  {
   "cell_type": "code",
   "execution_count": 27,
   "metadata": {},
   "outputs": [
    {
     "name": "stdout",
     "output_type": "stream",
     "text": [
      "Epoch 1/20\n",
      "24/24 - 4s - loss: 0.0669 - 4s/epoch - 151ms/step\n",
      "Epoch 2/20\n",
      "24/24 - 0s - loss: 0.0192 - 281ms/epoch - 12ms/step\n",
      "Epoch 3/20\n",
      "24/24 - 0s - loss: 0.0157 - 271ms/epoch - 11ms/step\n",
      "Epoch 4/20\n",
      "24/24 - 0s - loss: 0.0109 - 259ms/epoch - 11ms/step\n",
      "Epoch 5/20\n",
      "24/24 - 0s - loss: 0.0104 - 304ms/epoch - 13ms/step\n",
      "Epoch 6/20\n",
      "24/24 - 0s - loss: 0.0102 - 274ms/epoch - 11ms/step\n",
      "Epoch 7/20\n",
      "24/24 - 0s - loss: 0.0115 - 272ms/epoch - 11ms/step\n",
      "Epoch 8/20\n",
      "24/24 - 0s - loss: 0.0101 - 286ms/epoch - 12ms/step\n",
      "Epoch 9/20\n",
      "24/24 - 0s - loss: 0.0092 - 270ms/epoch - 11ms/step\n",
      "Epoch 10/20\n",
      "24/24 - 0s - loss: 0.0120 - 274ms/epoch - 11ms/step\n",
      "Epoch 11/20\n",
      "24/24 - 0s - loss: 0.0084 - 270ms/epoch - 11ms/step\n",
      "Epoch 12/20\n",
      "24/24 - 0s - loss: 0.0105 - 262ms/epoch - 11ms/step\n",
      "Epoch 13/20\n",
      "24/24 - 0s - loss: 0.0073 - 273ms/epoch - 11ms/step\n",
      "Epoch 14/20\n",
      "24/24 - 0s - loss: 0.0084 - 261ms/epoch - 11ms/step\n",
      "Epoch 15/20\n",
      "24/24 - 0s - loss: 0.0075 - 271ms/epoch - 11ms/step\n",
      "Epoch 16/20\n",
      "24/24 - 0s - loss: 0.0087 - 272ms/epoch - 11ms/step\n",
      "Epoch 17/20\n",
      "24/24 - 0s - loss: 0.0079 - 257ms/epoch - 11ms/step\n",
      "Epoch 18/20\n",
      "24/24 - 0s - loss: 0.0106 - 265ms/epoch - 11ms/step\n",
      "Epoch 19/20\n",
      "24/24 - 0s - loss: 0.0116 - 269ms/epoch - 11ms/step\n",
      "Epoch 20/20\n",
      "24/24 - 0s - loss: 0.0086 - 281ms/epoch - 12ms/step\n"
     ]
    }
   ],
   "source": [
    "hist = model.fit(X_train, y_train, epochs=20, batch_size=10, verbose=2)"
   ]
  },
  {
   "cell_type": "code",
   "execution_count": 28,
   "metadata": {},
   "outputs": [
    {
     "data": {
      "image/png": "[encoded data removed]",
      "text/plain": [
       "<Figure size 640x480 with 1 Axes>"
      ]
     },
     "metadata": {},
     "output_type": "display_data"
    }
   ],
   "source": [
    "plt.plot(hist.history['loss'])\n",
    "plt.title('Training model loss')\n",
    "plt.ylabel('loss')\n",
    "plt.xlabel('epochs')\n",
    "plt.legend(['train'], loc='upper left')\n",
    "plt.show()"
   ]
  },
  {
   "cell_type": "markdown",
   "metadata": {},
   "source": [
    "### Model Testing"
   ]
  },
  {
   "cell_type": "code",
   "execution_count": 29,
   "metadata": {},
   "outputs": [],
   "source": [
    "test_data = pd.read_csv('data/nifty50/data_2018_first_three_months.csv') #import data\n",
    "test_data = test_data.iloc[:,4:5]\n",
    "\n",
    "y_test = test_data.iloc[2:, 0:].values\n",
    "\n",
    "#input arracy for the model\n",
    "\n",
    "inputClosing = test_data.iloc[:, 0:].values\n",
    "inputClosing_scaled = sc.transform(inputClosing)\n",
    "\n",
    "X_test = []\n",
    "\n",
    "length = len(test_data)\n",
    "timestep = cross_val_size\n",
    "\n",
    "for i in range(timestep, length):\n",
    "    X_test.append(inputClosing_scaled[i - timestep:i, 0])\n",
    "\n",
    "X_test = np.array(X_test)\n",
    "X_test = np.reshape(X_test, (X_test.shape[0], X_test.shape[1], 1))\n"
   ]
  },
  {
   "cell_type": "code",
   "execution_count": 30,
   "metadata": {},
   "outputs": [
    {
     "name": "stdout",
     "output_type": "stream",
     "text": [
      "2/2 [==============================] - 1s 7ms/step\n"
     ]
    }
   ],
   "source": [
    "y_pred = model.predict(X_test)"
   ]
  },
  {
   "cell_type": "code",
   "execution_count": 31,
   "metadata": {},
   "outputs": [],
   "source": [
    "predicted_index = sc.inverse_transform(y_pred) # undoing the scaling done on X_train, X_test"
   ]
  },
  {
   "cell_type": "code",
   "execution_count": 32,
   "metadata": {},
   "outputs": [
    {
     "data": {
      "image/png": "[encoded data removed]",
      "text/plain": [
       "<Figure size 640x480 with 1 Axes>"
      ]
     },
     "metadata": {},
     "output_type": "display_data"
    }
   ],
   "source": [
    "plt.plot(y_test, color = 'red', label='Actual stock price')\n",
    "plt.plot(predicted_index, color='green', label='Predicted stock price')\n",
    "plt.title('Nifty50 Stock prediction')\n",
    "plt.xlabel('Time')\n",
    "plt.ylabel('Stock price')\n",
    "plt.legend()\n",
    "plt.show()"
   ]
  },
  {
   "cell_type": "code",
   "execution_count": null,
   "metadata": {},
   "outputs": [],
   "source": []
  }
 ],
 "metadata": {
  "kernelspec": {
   "display_name": "Python 3.7.8 ('fleetsim')",
   "language": "python",
   "name": "python3"
  },
  "language_info": {
   "codemirror_mode": {
    "name": "ipython",
    "version": 3
   },
   "file_extension": ".py",
   "mimetype": "text/x-python",
   "name": "python",
   "nbconvert_exporter": "python",
   "pygments_lexer": "ipython3",
   "version": "3.7.8"
  },
  "orig_nbformat": 4,
  "vscode": {
   "interpreter": {
    "hash": "bfc8dac2d2985f98170ac618585e46ef01f339efec2ea5232cece966c091af62"
   }
  }
 },
 "nbformat": 4,
 "nbformat_minor": 2
}
